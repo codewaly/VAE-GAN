{
  "cells": [
    {
      "cell_type": "markdown",
      "metadata": {
        "id": "qpuzAeOwbzsl"
      },
      "source": [
        "# Training a VAE on MNIST\n",
        "Enabling and testing the GPU\n",
        "\n",
        "First, you'll need to enable GPUs for the notebook:\n",
        "\n",
        "    Navigate to Edit→Notebook Settings\n",
        "    select GPU from the Hardware Accelerator drop-down\n",
        "    \n",
        "You can check if the GPU works with nvidia-smi.\n"
      ]
    },
    {
      "cell_type": "code",
      "source": [
        "#Verification de GPU\n",
        "import tensorflow as tf \n",
        "tf.test.gpu_device_name() "
      ],
      "metadata": {
        "colab": {
          "base_uri": "https://localhost:8080/",
          "height": 35
        },
        "id": "nqyVVQdVYRjl",
        "outputId": "85585b9c-b31d-4781-fef2-9fadb97e5c52"
      },
      "execution_count": null,
      "outputs": [
        {
          "output_type": "execute_result",
          "data": {
            "text/plain": [
              "'/device:GPU:0'"
            ],
            "application/vnd.google.colaboratory.intrinsic+json": {
              "type": "string"
            }
          },
          "metadata": {},
          "execution_count": 1
        }
      ]
    },
    {
      "cell_type": "markdown",
      "metadata": {
        "id": "JvDUZghtyFtl"
      },
      "source": [
        "## Data loading\n",
        "Let's import some libraries and load the MNIST dataset."
      ]
    },
    {
      "cell_type": "code",
      "execution_count": null,
      "metadata": {
        "id": "GmFdb_qht0ES",
        "colab": {
          "base_uri": "https://localhost:8080/",
          "height": 431,
          "referenced_widgets": [
            "201ce29223b747aaaf5853470b66046c",
            "6aa3328f605740f79ef6d716809aede4",
            "034da444652c4ce98085459976422fd8",
            "64946597d90c4298a1d45f0f98c3be18",
            "de3d1cfba641432eb7ff2be5238a1762",
            "aed0f800ab654717ad22210c7e3e4058",
            "28653b7740754293b7c5474470a5fd3d",
            "71a4faa33cc4459b8db217db98e2e95b",
            "b069f4bb4b374a7a8954de71f2b3371b",
            "10c610e2ba1d40fca34c9f2862378761",
            "7635324b38944d9990d04b65c3ffcdae",
            "d2c28fc1424c44d9a7c3f45b2616bf1b",
            "96f440f7a9a840a2aa68cb435e5d7078",
            "f99f8b054caf4d7c8258bff1d1094371",
            "69a5a471e33f4e988890c5ec5753be50",
            "5aa4d7ae39514c0894e5310b9b9ef157",
            "9209730b2e3243e5ac204bd1062977e9",
            "e7bb948fcc154a2daacb26096e7b2e0e",
            "e76f123b747a442a916249f76b6d57d8",
            "93df2ec5264d41548c03bf2ac916018d",
            "a78ecf681a4045b48c6074e33fc2f9b7",
            "6edaf55595594acba946d362c1385a58",
            "8a4e1a14db03422a8cc67335685764ef",
            "7a5fe96c1bb64db9b061ed845fb3f352",
            "a0fb5f7d3648491bb680b3fdcba32f16",
            "6152f2c4165f4d23ad7f5592df3e4f2e",
            "2bc287fdccd34312a89a74cd514dfd01",
            "891a5c49258f488a845d1a3b9ff107dd",
            "822b8636348a44f897a28d81eee70701",
            "a3f81279960a45f296b349af246d5802",
            "c0934bf4233b46749fa74398dd9f8a35",
            "617fa127b6ef4773ac878dfafada010f",
            "9611cc0ddca64034b8434ea6bd2582c4",
            "e1a10ad2555a4e568dc9b73b589aee45",
            "f8bc99e88c284e209f88471ba5ec1d80",
            "89c4712e65f24ab1937d002332410192",
            "6f31ceb79ea84348a423920ae2d475cc",
            "195c31e69ff543328aa3a7013fea3a6a",
            "a0a415ceb0d740bc95793be3f70f0085",
            "4a3f850bafd747f8b8fb2d3c8117bd3c",
            "5beacf4c8e714fbda84f2ad959a75908",
            "a8f6b1d979b6461d988b134aa4486360",
            "ea4d4c2545104cd8acc4da91fc877bd8",
            "cfe21ccd1ea1439ca7edc6d05340188e"
          ]
        },
        "outputId": "efe3f41d-55e3-4edd-960b-9cf52866946a"
      },
      "outputs": [
        {
          "output_type": "stream",
          "name": "stdout",
          "text": [
            "Downloading http://yann.lecun.com/exdb/mnist/train-images-idx3-ubyte.gz\n",
            "Downloading http://yann.lecun.com/exdb/mnist/train-images-idx3-ubyte.gz to ./mnist_data/MNIST/raw/train-images-idx3-ubyte.gz\n"
          ]
        },
        {
          "output_type": "display_data",
          "data": {
            "text/plain": [
              "  0%|          | 0/9912422 [00:00<?, ?it/s]"
            ],
            "application/vnd.jupyter.widget-view+json": {
              "version_major": 2,
              "version_minor": 0,
              "model_id": "201ce29223b747aaaf5853470b66046c"
            }
          },
          "metadata": {}
        },
        {
          "output_type": "stream",
          "name": "stdout",
          "text": [
            "Extracting ./mnist_data/MNIST/raw/train-images-idx3-ubyte.gz to ./mnist_data/MNIST/raw\n",
            "\n",
            "Downloading http://yann.lecun.com/exdb/mnist/train-labels-idx1-ubyte.gz\n",
            "Downloading http://yann.lecun.com/exdb/mnist/train-labels-idx1-ubyte.gz to ./mnist_data/MNIST/raw/train-labels-idx1-ubyte.gz\n"
          ]
        },
        {
          "output_type": "display_data",
          "data": {
            "text/plain": [
              "  0%|          | 0/28881 [00:00<?, ?it/s]"
            ],
            "application/vnd.jupyter.widget-view+json": {
              "version_major": 2,
              "version_minor": 0,
              "model_id": "d2c28fc1424c44d9a7c3f45b2616bf1b"
            }
          },
          "metadata": {}
        },
        {
          "output_type": "stream",
          "name": "stdout",
          "text": [
            "Extracting ./mnist_data/MNIST/raw/train-labels-idx1-ubyte.gz to ./mnist_data/MNIST/raw\n",
            "\n",
            "Downloading http://yann.lecun.com/exdb/mnist/t10k-images-idx3-ubyte.gz\n",
            "Downloading http://yann.lecun.com/exdb/mnist/t10k-images-idx3-ubyte.gz to ./mnist_data/MNIST/raw/t10k-images-idx3-ubyte.gz\n"
          ]
        },
        {
          "output_type": "display_data",
          "data": {
            "text/plain": [
              "  0%|          | 0/1648877 [00:00<?, ?it/s]"
            ],
            "application/vnd.jupyter.widget-view+json": {
              "version_major": 2,
              "version_minor": 0,
              "model_id": "8a4e1a14db03422a8cc67335685764ef"
            }
          },
          "metadata": {}
        },
        {
          "output_type": "stream",
          "name": "stdout",
          "text": [
            "Extracting ./mnist_data/MNIST/raw/t10k-images-idx3-ubyte.gz to ./mnist_data/MNIST/raw\n",
            "\n",
            "Downloading http://yann.lecun.com/exdb/mnist/t10k-labels-idx1-ubyte.gz\n",
            "Downloading http://yann.lecun.com/exdb/mnist/t10k-labels-idx1-ubyte.gz to ./mnist_data/MNIST/raw/t10k-labels-idx1-ubyte.gz\n"
          ]
        },
        {
          "output_type": "display_data",
          "data": {
            "text/plain": [
              "  0%|          | 0/4542 [00:00<?, ?it/s]"
            ],
            "application/vnd.jupyter.widget-view+json": {
              "version_major": 2,
              "version_minor": 0,
              "model_id": "e1a10ad2555a4e568dc9b73b589aee45"
            }
          },
          "metadata": {}
        },
        {
          "output_type": "stream",
          "name": "stdout",
          "text": [
            "Extracting ./mnist_data/MNIST/raw/t10k-labels-idx1-ubyte.gz to ./mnist_data/MNIST/raw\n",
            "\n"
          ]
        }
      ],
      "source": [
        "\n",
        "# prerequisites\n",
        "import torch\n",
        "import torch.nn as nn\n",
        "import torch.nn.functional as F\n",
        "import torch.optim as optim\n",
        "from torchvision import datasets, transforms\n",
        "from torch.autograd import Variable\n",
        "from torchvision.utils import save_image\n",
        "import matplotlib.pyplot as plt\n",
        "import IPython.display\n",
        "import numpy as np\n",
        "\n",
        "bs = 100\n",
        "# MNIST Dataset\n",
        "train_dataset = datasets.MNIST(root='./mnist_data/', train=True, transform=transforms.ToTensor(), download=True)\n",
        "test_dataset = datasets.MNIST(root='./mnist_data/', train=False, transform=transforms.ToTensor(), download=False)\n",
        "\n",
        "# Data Loader (Input Pipeline)\n",
        "train_loader = torch.utils.data.DataLoader(dataset=train_dataset, batch_size=bs, shuffle=True)\n",
        "test_loader = torch.utils.data.DataLoader(dataset=test_dataset, batch_size=bs, shuffle=False)\n"
      ]
    },
    {
      "cell_type": "markdown",
      "metadata": {
        "id": "n06Juz1WyOgS"
      },
      "source": [
        "## Architecture specification\n",
        "\n",
        "You can use the following encoder (don't forget that in a VAE the decoder has two heads, for the mean and the variance):\n",
        "```\n",
        "  (fc1): Linear(in_features=784, out_features=512, bias=True)\n",
        "  (fc2): Linear(in_features=512, out_features=256, bias=True)\n",
        "  (fc31): Linear(in_features=256, out_features=2, bias=True)\n",
        "  (fc32): Linear(in_features=256, out_features=2, bias=True)\n",
        "```\n",
        "and this decoder:\n",
        "```\n",
        "  (fc4): Linear(in_features=2, out_features=256, bias=True)\n",
        "  (fc5): Linear(in_features=256, out_features=512, bias=True)\n",
        "  (fc6): Linear(in_features=512, out_features=784, bias=True)\n",
        "```\n",
        "Then, you need to complete the forward function. You can use Relu activations for every layers except for the heads that can reach negative values. Concerning the decoder head, you can use sigmoid to obtain values in [0,1].\n",
        "\n",
        "Here we consider a latent space of dimension 2 but is could be any *zdim* dimension."
      ]
    },
    {
      "cell_type": "code",
      "execution_count": null,
      "metadata": {
        "id": "TXxva1KKxaS0"
      },
      "outputs": [],
      "source": [
        "class VAE(nn.Module):\n",
        "    def __init__(self, x_dim, h_dim1, h_dim2, z_dim):\n",
        "        super(VAE, self).__init__()\n",
        "        \n",
        "        # encoder part\n",
        "        self.fc1 = nn.Linear(x_dim,h_dim1)\n",
        "        self.fc2 = nn.Linear(h_dim1,h_dim2)\n",
        "        self.fc31 = nn.Linear(h_dim2,z_dim)\n",
        "        self.fc32 = nn.Linear(h_dim2,z_dim)\n",
        "        # decoder part\n",
        "        self.fc4 = nn.Linear(z_dim,h_dim2)\n",
        "        self.fc5 = nn.Linear(h_dim2,h_dim1)\n",
        "        self.fc6 = nn.Linear(h_dim1,x_dim)\n",
        "\n",
        "    def encoder(self, x):\n",
        "        h=F.relu(self.fc1(x))   \n",
        "        h=F.relu(self.fc2(h))\n",
        "        return self.fc31(h),self.fc32(h) # returns mu, log_var\n",
        "\n",
        "    def sampling(self, mu, log_var):\n",
        "        std = torch.exp(0.5*log_var)\n",
        "        eps = torch.randn_like(std) # std is used only for its dimensions\n",
        "        return eps.mul(std).add(mu)# ... return z sample\n",
        "        \n",
        "    def decoder(self, z):\n",
        "        h = F.relu(self.fc4(z))\n",
        "        h = F.relu(self.fc5(h))\n",
        "        return F.sigmoid(self.fc6(h)) # ...\n",
        "\n",
        "\n",
        "    def forward(self, x):\n",
        "        mu, log_var = self.encoder(x.view(-1, 784)) # ...\n",
        "        z = self.sampling(mu, log_var)\n",
        "        image_rec=self.decoder(z) # ...\n",
        "        return image_rec, mu, log_var\n"
      ]
    },
    {
      "cell_type": "markdown",
      "metadata": {
        "id": "6H_xb6xZzd3L"
      },
      "source": [
        "## Loss function\n",
        "The total loss of the VAE is composed of two terms: a reconstruction term and the KL divergence with the Prior. The KL divergence between two gaussians is given by:\n",
        "\n",
        "![Screenshot at 2021-03-31 12-12-19.png](data:image/png;base64,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)\n",
        "\n",
        "Assuming a unit gaussian as prior, we obtain a very simple equation that will help you to implement it in pytorch:\n",
        "\n",
        "![Screenshot at 2021-03-31 12-09-59.png](data:image/png;base64,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)\n",
        "\n",
        "Note that, in these equations sigma denotes the standard deviation while the encoder network ouputs the log of the variance.  "
      ]
    },
    {
      "cell_type": "code",
      "execution_count": null,
      "metadata": {
        "id": "TyaXc-NHxGaZ"
      },
      "outputs": [],
      "source": [
        "# build model\n",
        "vae = VAE(x_dim=784, h_dim1= 512, h_dim2=256, z_dim=2)\n",
        "if torch.cuda.is_available():\n",
        "    vae.cuda()\n",
        "optimizer = optim.Adam(vae.parameters())\n",
        "\n",
        "# return reconstruction error + KL divergence losses\n",
        "def loss_function(recon_x, x, mu, log_var):\n",
        "    RecLoss = F.binary_cross_entropy(recon_x.view(-1, 784), x.view(-1, 784), reduction='sum')# ...\n",
        "    KLDLoss = -0.5 * torch.mean(1 + log_var - mu.pow(2) - log_var.exp()) # ...\n",
        "    return RecLoss + KLDLoss\n",
        "\n"
      ]
    },
    {
      "cell_type": "markdown",
      "metadata": {
        "id": "CwbBd2mtzqwi"
      },
      "source": [
        "## Training step\n",
        "In this cell, we define the function that performs training on one epoch. We recommend to debug it using the \"main loop\" cell later in the page."
      ]
    },
    {
      "cell_type": "code",
      "execution_count": null,
      "metadata": {
        "id": "ZysT5cQ7xGre"
      },
      "outputs": [],
      "source": [
        "def train(epoch):\n",
        "    vae.train()\n",
        "    train_loss = 0\n",
        "    for batch_idx, (data, _) in enumerate(train_loader):\n",
        "        data = data.cuda()\n",
        "        optimizer.zero_grad()\n",
        "        \n",
        "        # vae reconstruction\n",
        "        data_recon, latent_mu, latent_log_var = vae(data)\n",
        "        # reconstruction error\n",
        "        loss = loss_function(data_recon, data, latent_mu, latent_log_var) # ...\n",
        "        loss.backward()\n",
        "        train_loss += loss.item()\n",
        "        optimizer.step()\n",
        "        \n",
        "        if batch_idx % 100 == 0:\n",
        "            print('Train Epoch: {} [{}/{} ({:.0f}%)]\\tLoss: {:.6f}'.format(\n",
        "                epoch, batch_idx * len(data), len(train_loader.dataset),\n",
        "                100. * batch_idx / len(train_loader), loss.item() / len(data)))\n",
        "    print('====> Epoch: {} Average loss: {:.4f}'.format(epoch, train_loss / len(train_loader.dataset)))"
      ]
    },
    {
      "cell_type": "code",
      "source": [
        ""
      ],
      "metadata": {
        "id": "ET8U52mcaBr2"
      },
      "execution_count": null,
      "outputs": []
    },
    {
      "cell_type": "markdown",
      "metadata": {
        "id": "nNYNWVJazxMu"
      },
      "source": [
        "## Visualization:\n",
        "We provide some visualization functions:"
      ]
    },
    {
      "cell_type": "code",
      "execution_count": null,
      "metadata": {
        "id": "EpPtdpf1w8hw"
      },
      "outputs": [],
      "source": [
        "\n",
        "# Plot the loss from each batch\n",
        "def plotLoss(epoch):\n",
        "    plt.figure(figsize=(10, 8))\n",
        "    plt.plot(dLosses, label='Discriminitive loss')\n",
        "    plt.plot(gLosses, label='Generative loss')\n",
        "    plt.xlabel('Epoch')\n",
        "    plt.ylabel('Loss')\n",
        "    plt.legend()\n",
        "    plt.savefig('gan_loss_epoch_%d.png' % epoch)\n",
        "\n",
        "# Create a wall of generated MNIST images\n",
        "def plotGeneratedImages(generatedImages,dim=(10, 10), figsize=(10, 10)):\n",
        "    generatedImages=generatedImages.cpu().numpy()\n",
        "    print(generatedImages.shape)\n",
        "    plt.figure(figsize=figsize)\n",
        "    for i in range(generatedImages.shape[0]):\n",
        "        plt.subplot(dim[0], dim[1], i+1)\n",
        "        plt.imshow(np.squeeze(generatedImages[i]), interpolation='nearest', cmap='gray')\n",
        "        plt.axis('off')\n",
        "    plt.tight_layout()\n",
        "    plt.savefig('gan_generated_image_epoch_%d.png' % epoch)\n",
        "    IPython.display.display(IPython.display.Image(data=('gan_generated_image_epoch_%d.png' % epoch)))\n"
      ]
    },
    {
      "cell_type": "markdown",
      "metadata": {
        "id": "EP7w6d1i0Mrv"
      },
      "source": [
        "## Test\n",
        "Complete the test function that generate new sample from latent space samples. "
      ]
    },
    {
      "cell_type": "code",
      "execution_count": null,
      "metadata": {
        "id": "uJVwV2Ebwt3Y"
      },
      "outputs": [],
      "source": [
        "def test():\n",
        "    vae.eval()\n",
        "    test_loss= 0\n",
        "    with torch.no_grad():\n",
        "        for data, _ in test_loader:\n",
        "            data = data.cuda()\n",
        "            recon, mu, log_var =vae(data) # ...\n",
        "             # reconstruction error\n",
        "            loss = loss_function(recon, data, mu,log_var) \n",
        "            # sum up batch loss\n",
        "            test_loss += loss.item() # ...\n",
        "        \n",
        "    test_loss /= len(test_loader.dataset)\n",
        "    print('====> Test set loss: {:.4f}'.format(test_loss))\n",
        "    with torch.no_grad():\n",
        "      z = torch.randn(64, 2).cuda()\n",
        "      generated =vae.decoder(z) # ...\n",
        "      plotGeneratedImages(generated.view(generated.size(0), 1, 28, 28))\n",
        "      #save_image(sample.view(64, 1, 28, 28), '.sample_' + '.png')\n",
        "\n"
      ]
    },
    {
      "cell_type": "markdown",
      "metadata": {
        "id": "6AkcXsDL0WVH"
      },
      "source": [
        "## Main loop"
      ]
    },
    {
      "cell_type": "code",
      "execution_count": null,
      "metadata": {
        "colab": {
          "base_uri": "https://localhost:8080/",
          "height": 1000
        },
        "id": "J8XsOe1Vt-gy",
        "outputId": "4744f690-2e91-4b3b-ff1a-a883318a84fe"
      },
      "outputs": [
        {
          "output_type": "stream",
          "name": "stderr",
          "text": [
            "/usr/local/lib/python3.7/dist-packages/torch/nn/functional.py:1806: UserWarning: nn.functional.sigmoid is deprecated. Use torch.sigmoid instead.\n",
            "  warnings.warn(\"nn.functional.sigmoid is deprecated. Use torch.sigmoid instead.\")\n"
          ]
        },
        {
          "output_type": "stream",
          "name": "stdout",
          "text": [
            "Train Epoch: 1 [0/60000 (0%)]\tLoss: 541.788672\n",
            "Train Epoch: 1 [10000/60000 (17%)]\tLoss: 184.715273\n",
            "Train Epoch: 1 [20000/60000 (33%)]\tLoss: 166.638457\n",
            "Train Epoch: 1 [30000/60000 (50%)]\tLoss: 157.246123\n",
            "Train Epoch: 1 [40000/60000 (67%)]\tLoss: 159.974795\n",
            "Train Epoch: 1 [50000/60000 (83%)]\tLoss: 156.382695\n",
            "====> Epoch: 1 Average loss: 170.8347\n",
            "Train Epoch: 2 [0/60000 (0%)]\tLoss: 154.549463\n",
            "Train Epoch: 2 [10000/60000 (17%)]\tLoss: 145.329219\n",
            "Train Epoch: 2 [20000/60000 (33%)]\tLoss: 148.612305\n",
            "Train Epoch: 2 [30000/60000 (50%)]\tLoss: 146.866260\n",
            "Train Epoch: 2 [40000/60000 (67%)]\tLoss: 143.601504\n",
            "Train Epoch: 2 [50000/60000 (83%)]\tLoss: 148.611191\n",
            "====> Epoch: 2 Average loss: 149.9759\n",
            "Train Epoch: 3 [0/60000 (0%)]\tLoss: 154.164258\n",
            "Train Epoch: 3 [10000/60000 (17%)]\tLoss: 135.272920\n",
            "Train Epoch: 3 [20000/60000 (33%)]\tLoss: 136.480557\n",
            "Train Epoch: 3 [30000/60000 (50%)]\tLoss: 150.938965\n",
            "Train Epoch: 3 [40000/60000 (67%)]\tLoss: 134.218096\n",
            "Train Epoch: 3 [50000/60000 (83%)]\tLoss: 148.937725\n",
            "====> Epoch: 3 Average loss: 144.7942\n",
            "Train Epoch: 4 [0/60000 (0%)]\tLoss: 147.978242\n",
            "Train Epoch: 4 [10000/60000 (17%)]\tLoss: 149.510088\n",
            "Train Epoch: 4 [20000/60000 (33%)]\tLoss: 144.819756\n",
            "Train Epoch: 4 [30000/60000 (50%)]\tLoss: 145.888350\n",
            "Train Epoch: 4 [40000/60000 (67%)]\tLoss: 142.027539\n",
            "Train Epoch: 4 [50000/60000 (83%)]\tLoss: 143.734277\n",
            "====> Epoch: 4 Average loss: 141.7786\n",
            "====> Test set loss: 140.9544\n",
            "(64, 1, 28, 28)\n"
          ]
        },
        {
          "output_type": "display_data",
          "data": {
            "text/plain": [
              "<IPython.core.display.Image object>"
            ],
            "image/png": "[encoded data removed]"
          },
          "metadata": {}
        },
        {
          "output_type": "display_data",
          "data": {
            "text/plain": [
              "<Figure size 720x720 with 64 Axes>"
            ],
            "image/png": "[encoded data removed]"
          },
          "metadata": {
            "needs_background": "light"
          }
        }
      ],
      "source": [
        "\n",
        "for epoch in range(1, 5):\n",
        "    train(epoch)\n",
        "test()\n",
        "    "
      ]
    },
    {
      "cell_type": "markdown",
      "metadata": {
        "id": "URCpsHcs-tnx"
      },
      "source": [
        "## Bonus 1: Interpolation\n",
        "Sample two latent vectors z1 and z2 and generate the corresponding images. Then, generate 10 intermediate images by performing linear interpolation in the latent space between the z1 and z2."
      ]
    },
    {
      "cell_type": "code",
      "execution_count": null,
      "metadata": {
        "id": "RtLV1dQEBVNe"
      },
      "outputs": [],
      "source": [
        "# ..."
      ]
    },
    {
      "cell_type": "markdown",
      "metadata": {
        "id": "rNvoqzJOAK3C"
      },
      "source": [
        "## Bonus 2: Visualization\n",
        "Generate a 10x10 mosaic by sampling *z* over a regulargrid in [-1,1]x[-1,1]. What do you observe? \n"
      ]
    },
    {
      "cell_type": "code",
      "execution_count": null,
      "metadata": {
        "id": "bDRGnrqNHTAW"
      },
      "outputs": [],
      "source": [
        "# ..."
      ]
    }
  ],
  "metadata": {
    "accelerator": "GPU",
    "colab": {
      "name": "pytorch_VAE_MNIST.ipynb",
      "provenance": []
    },
    "kernelspec": {
      "display_name": "Python 3 (ipykernel)",
      "language": "python",
      "name": "python3"
    },
    "language_info": {
      "codemirror_mode": {
        "name": "ipython",
        "version": 3
      },
      "file_extension": ".py",
      "mimetype": "text/x-python",
      "name": "python",
      "nbconvert_exporter": "python",
      "pygments_lexer": "ipython3",
      "version": "3.9.7"
    },
    "widgets": {
      "application/vnd.jupyter.widget-state+json": {
        "201ce29223b747aaaf5853470b66046c": {
          "model_module": "@jupyter-widgets/controls",
          "model_name": "HBoxModel",
          "model_module_version": "1.5.0",
          "state": {
            "_dom_classes": [],
            "_model_module": "@jupyter-widgets/controls",
            "_model_module_version": "1.5.0",
            "_model_name": "HBoxModel",
            "_view_count": null,
            "_view_module": "@jupyter-widgets/controls",
            "_view_module_version": "1.5.0",
            "_view_name": "HBoxView",
            "box_style": "",
            "children": [
              "IPY_MODEL_6aa3328f605740f79ef6d716809aede4",
              "IPY_MODEL_034da444652c4ce98085459976422fd8",
              "IPY_MODEL_64946597d90c4298a1d45f0f98c3be18"
            ],
            "layout": "IPY_MODEL_de3d1cfba641432eb7ff2be5238a1762"
          }
        },
        "6aa3328f605740f79ef6d716809aede4": {
          "model_module": "@jupyter-widgets/controls",
          "model_name": "HTMLModel",
          "model_module_version": "1.5.0",
          "state": {
            "_dom_classes": [],
            "_model_module": "@jupyter-widgets/controls",
            "_model_module_version": "1.5.0",
            "_model_name": "HTMLModel",
            "_view_count": null,
            "_view_module": "@jupyter-widgets/controls",
            "_view_module_version": "1.5.0",
            "_view_name": "HTMLView",
            "description": "",
            "description_tooltip": null,
            "layout": "IPY_MODEL_aed0f800ab654717ad22210c7e3e4058",
            "placeholder": "​",
            "style": "IPY_MODEL_28653b7740754293b7c5474470a5fd3d",
            "value": ""
          }
        },
        "034da444652c4ce98085459976422fd8": {
          "model_module": "@jupyter-widgets/controls",
          "model_name": "FloatProgressModel",
          "model_module_version": "1.5.0",
          "state": {
            "_dom_classes": [],
            "_model_module": "@jupyter-widgets/controls",
            "_model_module_version": "1.5.0",
            "_model_name": "FloatProgressModel",
            "_view_count": null,
            "_view_module": "@jupyter-widgets/controls",
            "_view_module_version": "1.5.0",
            "_view_name": "ProgressView",
            "bar_style": "success",
            "description": "",
            "description_tooltip": null,
            "layout": "IPY_MODEL_71a4faa33cc4459b8db217db98e2e95b",
            "max": 9912422,
            "min": 0,
            "orientation": "horizontal",
            "style": "IPY_MODEL_b069f4bb4b374a7a8954de71f2b3371b",
            "value": 9912422
          }
        },
        "64946597d90c4298a1d45f0f98c3be18": {
          "model_module": "@jupyter-widgets/controls",
          "model_name": "HTMLModel",
          "model_module_version": "1.5.0",
          "state": {
            "_dom_classes": [],
            "_model_module": "@jupyter-widgets/controls",
            "_model_module_version": "1.5.0",
            "_model_name": "HTMLModel",
            "_view_count": null,
            "_view_module": "@jupyter-widgets/controls",
            "_view_module_version": "1.5.0",
            "_view_name": "HTMLView",
            "description": "",
            "description_tooltip": null,
            "layout": "IPY_MODEL_10c610e2ba1d40fca34c9f2862378761",
            "placeholder": "​",
            "style": "IPY_MODEL_7635324b38944d9990d04b65c3ffcdae",
            "value": " 9913344/? [00:00&lt;00:00, 19524998.65it/s]"
          }
        },
        "de3d1cfba641432eb7ff2be5238a1762": {
          "model_module": "@jupyter-widgets/base",
          "model_name": "LayoutModel",
          "model_module_version": "1.2.0",
          "state": {
            "_model_module": "@jupyter-widgets/base",
            "_model_module_version": "1.2.0",
            "_model_name": "LayoutModel",
            "_view_count": null,
            "_view_module": "@jupyter-widgets/base",
            "_view_module_version": "1.2.0",
            "_view_name": "LayoutView",
            "align_content": null,
            "align_items": null,
            "align_self": null,
            "border": null,
            "bottom": null,
            "display": null,
            "flex": null,
            "flex_flow": null,
            "grid_area": null,
            "grid_auto_columns": null,
            "grid_auto_flow": null,
            "grid_auto_rows": null,
            "grid_column": null,
            "grid_gap": null,
            "grid_row": null,
            "grid_template_areas": null,
            "grid_template_columns": null,
            "grid_template_rows": null,
            "height": null,
            "justify_content": null,
            "justify_items": null,
            "left": null,
            "margin": null,
            "max_height": null,
            "max_width": null,
            "min_height": null,
            "min_width": null,
            "object_fit": null,
            "object_position": null,
            "order": null,
            "overflow": null,
            "overflow_x": null,
            "overflow_y": null,
            "padding": null,
            "right": null,
            "top": null,
            "visibility": null,
            "width": null
          }
        },
        "aed0f800ab654717ad22210c7e3e4058": {
          "model_module": "@jupyter-widgets/base",
          "model_name": "LayoutModel",
          "model_module_version": "1.2.0",
          "state": {
            "_model_module": "@jupyter-widgets/base",
            "_model_module_version": "1.2.0",
            "_model_name": "LayoutModel",
            "_view_count": null,
            "_view_module": "@jupyter-widgets/base",
            "_view_module_version": "1.2.0",
            "_view_name": "LayoutView",
            "align_content": null,
            "align_items": null,
            "align_self": null,
            "border": null,
            "bottom": null,
            "display": null,
            "flex": null,
            "flex_flow": null,
            "grid_area": null,
            "grid_auto_columns": null,
            "grid_auto_flow": null,
            "grid_auto_rows": null,
            "grid_column": null,
            "grid_gap": null,
            "grid_row": null,
            "grid_template_areas": null,
            "grid_template_columns": null,
            "grid_template_rows": null,
            "height": null,
            "justify_content": null,
            "justify_items": null,
            "left": null,
            "margin": null,
            "max_height": null,
            "max_width": null,
            "min_height": null,
            "min_width": null,
            "object_fit": null,
            "object_position": null,
            "order": null,
            "overflow": null,
            "overflow_x": null,
            "overflow_y": null,
            "padding": null,
            "right": null,
            "top": null,
            "visibility": null,
            "width": null
          }
        },
        "28653b7740754293b7c5474470a5fd3d": {
          "model_module": "@jupyter-widgets/controls",
          "model_name": "DescriptionStyleModel",
          "model_module_version": "1.5.0",
          "state": {
            "_model_module": "@jupyter-widgets/controls",
            "_model_module_version": "1.5.0",
            "_model_name": "DescriptionStyleModel",
            "_view_count": null,
            "_view_module": "@jupyter-widgets/base",
            "_view_module_version": "1.2.0",
            "_view_name": "StyleView",
            "description_width": ""
          }
        },
        "71a4faa33cc4459b8db217db98e2e95b": {
          "model_module": "@jupyter-widgets/base",
          "model_name": "LayoutModel",
          "model_module_version": "1.2.0",
          "state": {
            "_model_module": "@jupyter-widgets/base",
            "_model_module_version": "1.2.0",
            "_model_name": "LayoutModel",
            "_view_count": null,
            "_view_module": "@jupyter-widgets/base",
            "_view_module_version": "1.2.0",
            "_view_name": "LayoutView",
            "align_content": null,
            "align_items": null,
            "align_self": null,
            "border": null,
            "bottom": null,
            "display": null,
            "flex": null,
            "flex_flow": null,
            "grid_area": null,
            "grid_auto_columns": null,
            "grid_auto_flow": null,
            "grid_auto_rows": null,
            "grid_column": null,
            "grid_gap": null,
            "grid_row": null,
            "grid_template_areas": null,
            "grid_template_columns": null,
            "grid_template_rows": null,
            "height": null,
            "justify_content": null,
            "justify_items": null,
            "left": null,
            "margin": null,
            "max_height": null,
            "max_width": null,
            "min_height": null,
            "min_width": null,
            "object_fit": null,
            "object_position": null,
            "order": null,
            "overflow": null,
            "overflow_x": null,
            "overflow_y": null,
            "padding": null,
            "right": null,
            "top": null,
            "visibility": null,
            "width": null
          }
        },
        "b069f4bb4b374a7a8954de71f2b3371b": {
          "model_module": "@jupyter-widgets/controls",
          "model_name": "ProgressStyleModel",
          "model_module_version": "1.5.0",
          "state": {
            "_model_module": "@jupyter-widgets/controls",
            "_model_module_version": "1.5.0",
            "_model_name": "ProgressStyleModel",
            "_view_count": null,
            "_view_module": "@jupyter-widgets/base",
            "_view_module_version": "1.2.0",
            "_view_name": "StyleView",
            "bar_color": null,
            "description_width": ""
          }
        },
        "10c610e2ba1d40fca34c9f2862378761": {
          "model_module": "@jupyter-widgets/base",
          "model_name": "LayoutModel",
          "model_module_version": "1.2.0",
          "state": {
            "_model_module": "@jupyter-widgets/base",
            "_model_module_version": "1.2.0",
            "_model_name": "LayoutModel",
            "_view_count": null,
            "_view_module": "@jupyter-widgets/base",
            "_view_module_version": "1.2.0",
            "_view_name": "LayoutView",
            "align_content": null,
            "align_items": null,
            "align_self": null,
            "border": null,
            "bottom": null,
            "display": null,
            "flex": null,
            "flex_flow": null,
            "grid_area": null,
            "grid_auto_columns": null,
            "grid_auto_flow": null,
            "grid_auto_rows": null,
            "grid_column": null,
            "grid_gap": null,
            "grid_row": null,
            "grid_template_areas": null,
            "grid_template_columns": null,
            "grid_template_rows": null,
            "height": null,
            "justify_content": null,
            "justify_items": null,
            "left": null,
            "margin": null,
            "max_height": null,
            "max_width": null,
            "min_height": null,
            "min_width": null,
            "object_fit": null,
            "object_position": null,
            "order": null,
            "overflow": null,
            "overflow_x": null,
            "overflow_y": null,
            "padding": null,
            "right": null,
            "top": null,
            "visibility": null,
            "width": null
          }
        },
        "7635324b38944d9990d04b65c3ffcdae": {
          "model_module": "@jupyter-widgets/controls",
          "model_name": "DescriptionStyleModel",
          "model_module_version": "1.5.0",
          "state": {
            "_model_module": "@jupyter-widgets/controls",
            "_model_module_version": "1.5.0",
            "_model_name": "DescriptionStyleModel",
            "_view_count": null,
            "_view_module": "@jupyter-widgets/base",
            "_view_module_version": "1.2.0",
            "_view_name": "StyleView",
            "description_width": ""
          }
        },
        "d2c28fc1424c44d9a7c3f45b2616bf1b": {
          "model_module": "@jupyter-widgets/controls",
          "model_name": "HBoxModel",
          "model_module_version": "1.5.0",
          "state": {
            "_dom_classes": [],
            "_model_module": "@jupyter-widgets/controls",
            "_model_module_version": "1.5.0",
            "_model_name": "HBoxModel",
            "_view_count": null,
            "_view_module": "@jupyter-widgets/controls",
            "_view_module_version": "1.5.0",
            "_view_name": "HBoxView",
            "box_style": "",
            "children": [
              "IPY_MODEL_96f440f7a9a840a2aa68cb435e5d7078",
              "IPY_MODEL_f99f8b054caf4d7c8258bff1d1094371",
              "IPY_MODEL_69a5a471e33f4e988890c5ec5753be50"
            ],
            "layout": "IPY_MODEL_5aa4d7ae39514c0894e5310b9b9ef157"
          }
        },
        "96f440f7a9a840a2aa68cb435e5d7078": {
          "model_module": "@jupyter-widgets/controls",
          "model_name": "HTMLModel",
          "model_module_version": "1.5.0",
          "state": {
            "_dom_classes": [],
            "_model_module": "@jupyter-widgets/controls",
            "_model_module_version": "1.5.0",
            "_model_name": "HTMLModel",
            "_view_count": null,
            "_view_module": "@jupyter-widgets/controls",
            "_view_module_version": "1.5.0",
            "_view_name": "HTMLView",
            "description": "",
            "description_tooltip": null,
            "layout": "IPY_MODEL_9209730b2e3243e5ac204bd1062977e9",
            "placeholder": "​",
            "style": "IPY_MODEL_e7bb948fcc154a2daacb26096e7b2e0e",
            "value": ""
          }
        },
        "f99f8b054caf4d7c8258bff1d1094371": {
          "model_module": "@jupyter-widgets/controls",
          "model_name": "FloatProgressModel",
          "model_module_version": "1.5.0",
          "state": {
            "_dom_classes": [],
            "_model_module": "@jupyter-widgets/controls",
            "_model_module_version": "1.5.0",
            "_model_name": "FloatProgressModel",
            "_view_count": null,
            "_view_module": "@jupyter-widgets/controls",
            "_view_module_version": "1.5.0",
            "_view_name": "ProgressView",
            "bar_style": "success",
            "description": "",
            "description_tooltip": null,
            "layout": "IPY_MODEL_e76f123b747a442a916249f76b6d57d8",
            "max": 28881,
            "min": 0,
            "orientation": "horizontal",
            "style": "IPY_MODEL_93df2ec5264d41548c03bf2ac916018d",
            "value": 28881
          }
        },
        "69a5a471e33f4e988890c5ec5753be50": {
          "model_module": "@jupyter-widgets/controls",
          "model_name": "HTMLModel",
          "model_module_version": "1.5.0",
          "state": {
            "_dom_classes": [],
            "_model_module": "@jupyter-widgets/controls",
            "_model_module_version": "1.5.0",
            "_model_name": "HTMLModel",
            "_view_count": null,
            "_view_module": "@jupyter-widgets/controls",
            "_view_module_version": "1.5.0",
            "_view_name": "HTMLView",
            "description": "",
            "description_tooltip": null,
            "layout": "IPY_MODEL_a78ecf681a4045b48c6074e33fc2f9b7",
            "placeholder": "​",
            "style": "IPY_MODEL_6edaf55595594acba946d362c1385a58",
            "value": " 29696/? [00:00&lt;00:00, 742294.52it/s]"
          }
        },
        "5aa4d7ae39514c0894e5310b9b9ef157": {
          "model_module": "@jupyter-widgets/base",
          "model_name": "LayoutModel",
          "model_module_version": "1.2.0",
          "state": {
            "_model_module": "@jupyter-widgets/base",
            "_model_module_version": "1.2.0",
            "_model_name": "LayoutModel",
            "_view_count": null,
            "_view_module": "@jupyter-widgets/base",
            "_view_module_version": "1.2.0",
            "_view_name": "LayoutView",
            "align_content": null,
            "align_items": null,
            "align_self": null,
            "border": null,
            "bottom": null,
            "display": null,
            "flex": null,
            "flex_flow": null,
            "grid_area": null,
            "grid_auto_columns": null,
            "grid_auto_flow": null,
            "grid_auto_rows": null,
            "grid_column": null,
            "grid_gap": null,
            "grid_row": null,
            "grid_template_areas": null,
            "grid_template_columns": null,
            "grid_template_rows": null,
            "height": null,
            "justify_content": null,
            "justify_items": null,
            "left": null,
            "margin": null,
            "max_height": null,
            "max_width": null,
            "min_height": null,
            "min_width": null,
            "object_fit": null,
            "object_position": null,
            "order": null,
            "overflow": null,
            "overflow_x": null,
            "overflow_y": null,
            "padding": null,
            "right": null,
            "top": null,
            "visibility": null,
            "width": null
          }
        },
        "9209730b2e3243e5ac204bd1062977e9": {
          "model_module": "@jupyter-widgets/base",
          "model_name": "LayoutModel",
          "model_module_version": "1.2.0",
          "state": {
            "_model_module": "@jupyter-widgets/base",
            "_model_module_version": "1.2.0",
            "_model_name": "LayoutModel",
            "_view_count": null,
            "_view_module": "@jupyter-widgets/base",
            "_view_module_version": "1.2.0",
            "_view_name": "LayoutView",
            "align_content": null,
            "align_items": null,
            "align_self": null,
            "border": null,
            "bottom": null,
            "display": null,
            "flex": null,
            "flex_flow": null,
            "grid_area": null,
            "grid_auto_columns": null,
            "grid_auto_flow": null,
            "grid_auto_rows": null,
            "grid_column": null,
            "grid_gap": null,
            "grid_row": null,
            "grid_template_areas": null,
            "grid_template_columns": null,
            "grid_template_rows": null,
            "height": null,
            "justify_content": null,
            "justify_items": null,
            "left": null,
            "margin": null,
            "max_height": null,
            "max_width": null,
            "min_height": null,
            "min_width": null,
            "object_fit": null,
            "object_position": null,
            "order": null,
            "overflow": null,
            "overflow_x": null,
            "overflow_y": null,
            "padding": null,
            "right": null,
            "top": null,
            "visibility": null,
            "width": null
          }
        },
        "e7bb948fcc154a2daacb26096e7b2e0e": {
          "model_module": "@jupyter-widgets/controls",
          "model_name": "DescriptionStyleModel",
          "model_module_version": "1.5.0",
          "state": {
            "_model_module": "@jupyter-widgets/controls",
            "_model_module_version": "1.5.0",
            "_model_name": "DescriptionStyleModel",
            "_view_count": null,
            "_view_module": "@jupyter-widgets/base",
            "_view_module_version": "1.2.0",
            "_view_name": "StyleView",
            "description_width": ""
          }
        },
        "e76f123b747a442a916249f76b6d57d8": {
          "model_module": "@jupyter-widgets/base",
          "model_name": "LayoutModel",
          "model_module_version": "1.2.0",
          "state": {
            "_model_module": "@jupyter-widgets/base",
            "_model_module_version": "1.2.0",
            "_model_name": "LayoutModel",
            "_view_count": null,
            "_view_module": "@jupyter-widgets/base",
            "_view_module_version": "1.2.0",
            "_view_name": "LayoutView",
            "align_content": null,
            "align_items": null,
            "align_self": null,
            "border": null,
            "bottom": null,
            "display": null,
            "flex": null,
            "flex_flow": null,
            "grid_area": null,
            "grid_auto_columns": null,
            "grid_auto_flow": null,
            "grid_auto_rows": null,
            "grid_column": null,
            "grid_gap": null,
            "grid_row": null,
            "grid_template_areas": null,
            "grid_template_columns": null,
            "grid_template_rows": null,
            "height": null,
            "justify_content": null,
            "justify_items": null,
            "left": null,
            "margin": null,
            "max_height": null,
            "max_width": null,
            "min_height": null,
            "min_width": null,
            "object_fit": null,
            "object_position": null,
            "order": null,
            "overflow": null,
            "overflow_x": null,
            "overflow_y": null,
            "padding": null,
            "right": null,
            "top": null,
            "visibility": null,
            "width": null
          }
        },
        "93df2ec5264d41548c03bf2ac916018d": {
          "model_module": "@jupyter-widgets/controls",
          "model_name": "ProgressStyleModel",
          "model_module_version": "1.5.0",
          "state": {
            "_model_module": "@jupyter-widgets/controls",
            "_model_module_version": "1.5.0",
            "_model_name": "ProgressStyleModel",
            "_view_count": null,
            "_view_module": "@jupyter-widgets/base",
            "_view_module_version": "1.2.0",
            "_view_name": "StyleView",
            "bar_color": null,
            "description_width": ""
          }
        },
        "a78ecf681a4045b48c6074e33fc2f9b7": {
          "model_module": "@jupyter-widgets/base",
          "model_name": "LayoutModel",
          "model_module_version": "1.2.0",
          "state": {
            "_model_module": "@jupyter-widgets/base",
            "_model_module_version": "1.2.0",
            "_model_name": "LayoutModel",
            "_view_count": null,
            "_view_module": "@jupyter-widgets/base",
            "_view_module_version": "1.2.0",
            "_view_name": "LayoutView",
            "align_content": null,
            "align_items": null,
            "align_self": null,
            "border": null,
            "bottom": null,
            "display": null,
            "flex": null,
            "flex_flow": null,
            "grid_area": null,
            "grid_auto_columns": null,
            "grid_auto_flow": null,
            "grid_auto_rows": null,
            "grid_column": null,
            "grid_gap": null,
            "grid_row": null,
            "grid_template_areas": null,
            "grid_template_columns": null,
            "grid_template_rows": null,
            "height": null,
            "justify_content": null,
            "justify_items": null,
            "left": null,
            "margin": null,
            "max_height": null,
            "max_width": null,
            "min_height": null,
            "min_width": null,
            "object_fit": null,
            "object_position": null,
            "order": null,
            "overflow": null,
            "overflow_x": null,
            "overflow_y": null,
            "padding": null,
            "right": null,
            "top": null,
            "visibility": null,
            "width": null
          }
        },
        "6edaf55595594acba946d362c1385a58": {
          "model_module": "@jupyter-widgets/controls",
          "model_name": "DescriptionStyleModel",
          "model_module_version": "1.5.0",
          "state": {
            "_model_module": "@jupyter-widgets/controls",
            "_model_module_version": "1.5.0",
            "_model_name": "DescriptionStyleModel",
            "_view_count": null,
            "_view_module": "@jupyter-widgets/base",
            "_view_module_version": "1.2.0",
            "_view_name": "StyleView",
            "description_width": ""
          }
        },
        "8a4e1a14db03422a8cc67335685764ef": {
          "model_module": "@jupyter-widgets/controls",
          "model_name": "HBoxModel",
          "model_module_version": "1.5.0",
          "state": {
            "_dom_classes": [],
            "_model_module": "@jupyter-widgets/controls",
            "_model_module_version": "1.5.0",
            "_model_name": "HBoxModel",
            "_view_count": null,
            "_view_module": "@jupyter-widgets/controls",
            "_view_module_version": "1.5.0",
            "_view_name": "HBoxView",
            "box_style": "",
            "children": [
              "IPY_MODEL_7a5fe96c1bb64db9b061ed845fb3f352",
              "IPY_MODEL_a0fb5f7d3648491bb680b3fdcba32f16",
              "IPY_MODEL_6152f2c4165f4d23ad7f5592df3e4f2e"
            ],
            "layout": "IPY_MODEL_2bc287fdccd34312a89a74cd514dfd01"
          }
        },
        "7a5fe96c1bb64db9b061ed845fb3f352": {
          "model_module": "@jupyter-widgets/controls",
          "model_name": "HTMLModel",
          "model_module_version": "1.5.0",
          "state": {
            "_dom_classes": [],
            "_model_module": "@jupyter-widgets/controls",
            "_model_module_version": "1.5.0",
            "_model_name": "HTMLModel",
            "_view_count": null,
            "_view_module": "@jupyter-widgets/controls",
            "_view_module_version": "1.5.0",
            "_view_name": "HTMLView",
            "description": "",
            "description_tooltip": null,
            "layout": "IPY_MODEL_891a5c49258f488a845d1a3b9ff107dd",
            "placeholder": "​",
            "style": "IPY_MODEL_822b8636348a44f897a28d81eee70701",
            "value": ""
          }
        },
        "a0fb5f7d3648491bb680b3fdcba32f16": {
          "model_module": "@jupyter-widgets/controls",
          "model_name": "FloatProgressModel",
          "model_module_version": "1.5.0",
          "state": {
            "_dom_classes": [],
            "_model_module": "@jupyter-widgets/controls",
            "_model_module_version": "1.5.0",
            "_model_name": "FloatProgressModel",
            "_view_count": null,
            "_view_module": "@jupyter-widgets/controls",
            "_view_module_version": "1.5.0",
            "_view_name": "ProgressView",
            "bar_style": "success",
            "description": "",
            "description_tooltip": null,
            "layout": "IPY_MODEL_a3f81279960a45f296b349af246d5802",
            "max": 1648877,
            "min": 0,
            "orientation": "horizontal",
            "style": "IPY_MODEL_c0934bf4233b46749fa74398dd9f8a35",
            "value": 1648877
          }
        },
        "6152f2c4165f4d23ad7f5592df3e4f2e": {
          "model_module": "@jupyter-widgets/controls",
          "model_name": "HTMLModel",
          "model_module_version": "1.5.0",
          "state": {
            "_dom_classes": [],
            "_model_module": "@jupyter-widgets/controls",
            "_model_module_version": "1.5.0",
            "_model_name": "HTMLModel",
            "_view_count": null,
            "_view_module": "@jupyter-widgets/controls",
            "_view_module_version": "1.5.0",
            "_view_name": "HTMLView",
            "description": "",
            "description_tooltip": null,
            "layout": "IPY_MODEL_617fa127b6ef4773ac878dfafada010f",
            "placeholder": "​",
            "style": "IPY_MODEL_9611cc0ddca64034b8434ea6bd2582c4",
            "value": " 1649664/? [00:00&lt;00:00, 17610702.84it/s]"
          }
        },
        "2bc287fdccd34312a89a74cd514dfd01": {
          "model_module": "@jupyter-widgets/base",
          "model_name": "LayoutModel",
          "model_module_version": "1.2.0",
          "state": {
            "_model_module": "@jupyter-widgets/base",
            "_model_module_version": "1.2.0",
            "_model_name": "LayoutModel",
            "_view_count": null,
            "_view_module": "@jupyter-widgets/base",
            "_view_module_version": "1.2.0",
            "_view_name": "LayoutView",
            "align_content": null,
            "align_items": null,
            "align_self": null,
            "border": null,
            "bottom": null,
            "display": null,
            "flex": null,
            "flex_flow": null,
            "grid_area": null,
            "grid_auto_columns": null,
            "grid_auto_flow": null,
            "grid_auto_rows": null,
            "grid_column": null,
            "grid_gap": null,
            "grid_row": null,
            "grid_template_areas": null,
            "grid_template_columns": null,
            "grid_template_rows": null,
            "height": null,
            "justify_content": null,
            "justify_items": null,
            "left": null,
            "margin": null,
            "max_height": null,
            "max_width": null,
            "min_height": null,
            "min_width": null,
            "object_fit": null,
            "object_position": null,
            "order": null,
            "overflow": null,
            "overflow_x": null,
            "overflow_y": null,
            "padding": null,
            "right": null,
            "top": null,
            "visibility": null,
            "width": null
          }
        },
        "891a5c49258f488a845d1a3b9ff107dd": {
          "model_module": "@jupyter-widgets/base",
          "model_name": "LayoutModel",
          "model_module_version": "1.2.0",
          "state": {
            "_model_module": "@jupyter-widgets/base",
            "_model_module_version": "1.2.0",
            "_model_name": "LayoutModel",
            "_view_count": null,
            "_view_module": "@jupyter-widgets/base",
            "_view_module_version": "1.2.0",
            "_view_name": "LayoutView",
            "align_content": null,
            "align_items": null,
            "align_self": null,
            "border": null,
            "bottom": null,
            "display": null,
            "flex": null,
            "flex_flow": null,
            "grid_area": null,
            "grid_auto_columns": null,
            "grid_auto_flow": null,
            "grid_auto_rows": null,
            "grid_column": null,
            "grid_gap": null,
            "grid_row": null,
            "grid_template_areas": null,
            "grid_template_columns": null,
            "grid_template_rows": null,
            "height": null,
            "justify_content": null,
            "justify_items": null,
            "left": null,
            "margin": null,
            "max_height": null,
            "max_width": null,
            "min_height": null,
            "min_width": null,
            "object_fit": null,
            "object_position": null,
            "order": null,
            "overflow": null,
            "overflow_x": null,
            "overflow_y": null,
            "padding": null,
            "right": null,
            "top": null,
            "visibility": null,
            "width": null
          }
        },
        "822b8636348a44f897a28d81eee70701": {
          "model_module": "@jupyter-widgets/controls",
          "model_name": "DescriptionStyleModel",
          "model_module_version": "1.5.0",
          "state": {
            "_model_module": "@jupyter-widgets/controls",
            "_model_module_version": "1.5.0",
            "_model_name": "DescriptionStyleModel",
            "_view_count": null,
            "_view_module": "@jupyter-widgets/base",
            "_view_module_version": "1.2.0",
            "_view_name": "StyleView",
            "description_width": ""
          }
        },
        "a3f81279960a45f296b349af246d5802": {
          "model_module": "@jupyter-widgets/base",
          "model_name": "LayoutModel",
          "model_module_version": "1.2.0",
          "state": {
            "_model_module": "@jupyter-widgets/base",
            "_model_module_version": "1.2.0",
            "_model_name": "LayoutModel",
            "_view_count": null,
            "_view_module": "@jupyter-widgets/base",
            "_view_module_version": "1.2.0",
            "_view_name": "LayoutView",
            "align_content": null,
            "align_items": null,
            "align_self": null,
            "border": null,
            "bottom": null,
            "display": null,
            "flex": null,
            "flex_flow": null,
            "grid_area": null,
            "grid_auto_columns": null,
            "grid_auto_flow": null,
            "grid_auto_rows": null,
            "grid_column": null,
            "grid_gap": null,
            "grid_row": null,
            "grid_template_areas": null,
            "grid_template_columns": null,
            "grid_template_rows": null,
            "height": null,
            "justify_content": null,
            "justify_items": null,
            "left": null,
            "margin": null,
            "max_height": null,
            "max_width": null,
            "min_height": null,
            "min_width": null,
            "object_fit": null,
            "object_position": null,
            "order": null,
            "overflow": null,
            "overflow_x": null,
            "overflow_y": null,
            "padding": null,
            "right": null,
            "top": null,
            "visibility": null,
            "width": null
          }
        },
        "c0934bf4233b46749fa74398dd9f8a35": {
          "model_module": "@jupyter-widgets/controls",
          "model_name": "ProgressStyleModel",
          "model_module_version": "1.5.0",
          "state": {
            "_model_module": "@jupyter-widgets/controls",
            "_model_module_version": "1.5.0",
            "_model_name": "ProgressStyleModel",
            "_view_count": null,
            "_view_module": "@jupyter-widgets/base",
            "_view_module_version": "1.2.0",
            "_view_name": "StyleView",
            "bar_color": null,
            "description_width": ""
          }
        },
        "617fa127b6ef4773ac878dfafada010f": {
          "model_module": "@jupyter-widgets/base",
          "model_name": "LayoutModel",
          "model_module_version": "1.2.0",
          "state": {
            "_model_module": "@jupyter-widgets/base",
            "_model_module_version": "1.2.0",
            "_model_name": "LayoutModel",
            "_view_count": null,
            "_view_module": "@jupyter-widgets/base",
            "_view_module_version": "1.2.0",
            "_view_name": "LayoutView",
            "align_content": null,
            "align_items": null,
            "align_self": null,
            "border": null,
            "bottom": null,
            "display": null,
            "flex": null,
            "flex_flow": null,
            "grid_area": null,
            "grid_auto_columns": null,
            "grid_auto_flow": null,
            "grid_auto_rows": null,
            "grid_column": null,
            "grid_gap": null,
            "grid_row": null,
            "grid_template_areas": null,
            "grid_template_columns": null,
            "grid_template_rows": null,
            "height": null,
            "justify_content": null,
            "justify_items": null,
            "left": null,
            "margin": null,
            "max_height": null,
            "max_width": null,
            "min_height": null,
            "min_width": null,
            "object_fit": null,
            "object_position": null,
            "order": null,
            "overflow": null,
            "overflow_x": null,
            "overflow_y": null,
            "padding": null,
            "right": null,
            "top": null,
            "visibility": null,
            "width": null
          }
        },
        "9611cc0ddca64034b8434ea6bd2582c4": {
          "model_module": "@jupyter-widgets/controls",
          "model_name": "DescriptionStyleModel",
          "model_module_version": "1.5.0",
          "state": {
            "_model_module": "@jupyter-widgets/controls",
            "_model_module_version": "1.5.0",
            "_model_name": "DescriptionStyleModel",
            "_view_count": null,
            "_view_module": "@jupyter-widgets/base",
            "_view_module_version": "1.2.0",
            "_view_name": "StyleView",
            "description_width": ""
          }
        },
        "e1a10ad2555a4e568dc9b73b589aee45": {
          "model_module": "@jupyter-widgets/controls",
          "model_name": "HBoxModel",
          "model_module_version": "1.5.0",
          "state": {
            "_dom_classes": [],
            "_model_module": "@jupyter-widgets/controls",
            "_model_module_version": "1.5.0",
            "_model_name": "HBoxModel",
            "_view_count": null,
            "_view_module": "@jupyter-widgets/controls",
            "_view_module_version": "1.5.0",
            "_view_name": "HBoxView",
            "box_style": "",
            "children": [
              "IPY_MODEL_f8bc99e88c284e209f88471ba5ec1d80",
              "IPY_MODEL_89c4712e65f24ab1937d002332410192",
              "IPY_MODEL_6f31ceb79ea84348a423920ae2d475cc"
            ],
            "layout": "IPY_MODEL_195c31e69ff543328aa3a7013fea3a6a"
          }
        },
        "f8bc99e88c284e209f88471ba5ec1d80": {
          "model_module": "@jupyter-widgets/controls",
          "model_name": "HTMLModel",
          "model_module_version": "1.5.0",
          "state": {
            "_dom_classes": [],
            "_model_module": "@jupyter-widgets/controls",
            "_model_module_version": "1.5.0",
            "_model_name": "HTMLModel",
            "_view_count": null,
            "_view_module": "@jupyter-widgets/controls",
            "_view_module_version": "1.5.0",
            "_view_name": "HTMLView",
            "description": "",
            "description_tooltip": null,
            "layout": "IPY_MODEL_a0a415ceb0d740bc95793be3f70f0085",
            "placeholder": "​",
            "style": "IPY_MODEL_4a3f850bafd747f8b8fb2d3c8117bd3c",
            "value": ""
          }
        },
        "89c4712e65f24ab1937d002332410192": {
          "model_module": "@jupyter-widgets/controls",
          "model_name": "FloatProgressModel",
          "model_module_version": "1.5.0",
          "state": {
            "_dom_classes": [],
            "_model_module": "@jupyter-widgets/controls",
            "_model_module_version": "1.5.0",
            "_model_name": "FloatProgressModel",
            "_view_count": null,
            "_view_module": "@jupyter-widgets/controls",
            "_view_module_version": "1.5.0",
            "_view_name": "ProgressView",
            "bar_style": "success",
            "description": "",
            "description_tooltip": null,
            "layout": "IPY_MODEL_5beacf4c8e714fbda84f2ad959a75908",
            "max": 4542,
            "min": 0,
            "orientation": "horizontal",
            "style": "IPY_MODEL_a8f6b1d979b6461d988b134aa4486360",
            "value": 4542
          }
        },
        "6f31ceb79ea84348a423920ae2d475cc": {
          "model_module": "@jupyter-widgets/controls",
          "model_name": "HTMLModel",
          "model_module_version": "1.5.0",
          "state": {
            "_dom_classes": [],
            "_model_module": "@jupyter-widgets/controls",
            "_model_module_version": "1.5.0",
            "_model_name": "HTMLModel",
            "_view_count": null,
            "_view_module": "@jupyter-widgets/controls",
            "_view_module_version": "1.5.0",
            "_view_name": "HTMLView",
            "description": "",
            "description_tooltip": null,
            "layout": "IPY_MODEL_ea4d4c2545104cd8acc4da91fc877bd8",
            "placeholder": "​",
            "style": "IPY_MODEL_cfe21ccd1ea1439ca7edc6d05340188e",
            "value": " 5120/? [00:00&lt;00:00, 121182.30it/s]"
          }
        },
        "195c31e69ff543328aa3a7013fea3a6a": {
          "model_module": "@jupyter-widgets/base",
          "model_name": "LayoutModel",
          "model_module_version": "1.2.0",
          "state": {
            "_model_module": "@jupyter-widgets/base",
            "_model_module_version": "1.2.0",
            "_model_name": "LayoutModel",
            "_view_count": null,
            "_view_module": "@jupyter-widgets/base",
            "_view_module_version": "1.2.0",
            "_view_name": "LayoutView",
            "align_content": null,
            "align_items": null,
            "align_self": null,
            "border": null,
            "bottom": null,
            "display": null,
            "flex": null,
            "flex_flow": null,
            "grid_area": null,
            "grid_auto_columns": null,
            "grid_auto_flow": null,
            "grid_auto_rows": null,
            "grid_column": null,
            "grid_gap": null,
            "grid_row": null,
            "grid_template_areas": null,
            "grid_template_columns": null,
            "grid_template_rows": null,
            "height": null,
            "justify_content": null,
            "justify_items": null,
            "left": null,
            "margin": null,
            "max_height": null,
            "max_width": null,
            "min_height": null,
            "min_width": null,
            "object_fit": null,
            "object_position": null,
            "order": null,
            "overflow": null,
            "overflow_x": null,
            "overflow_y": null,
            "padding": null,
            "right": null,
            "top": null,
            "visibility": null,
            "width": null
          }
        },
        "a0a415ceb0d740bc95793be3f70f0085": {
          "model_module": "@jupyter-widgets/base",
          "model_name": "LayoutModel",
          "model_module_version": "1.2.0",
          "state": {
            "_model_module": "@jupyter-widgets/base",
            "_model_module_version": "1.2.0",
            "_model_name": "LayoutModel",
            "_view_count": null,
            "_view_module": "@jupyter-widgets/base",
            "_view_module_version": "1.2.0",
            "_view_name": "LayoutView",
            "align_content": null,
            "align_items": null,
            "align_self": null,
            "border": null,
            "bottom": null,
            "display": null,
            "flex": null,
            "flex_flow": null,
            "grid_area": null,
            "grid_auto_columns": null,
            "grid_auto_flow": null,
            "grid_auto_rows": null,
            "grid_column": null,
            "grid_gap": null,
            "grid_row": null,
            "grid_template_areas": null,
            "grid_template_columns": null,
            "grid_template_rows": null,
            "height": null,
            "justify_content": null,
            "justify_items": null,
            "left": null,
            "margin": null,
            "max_height": null,
            "max_width": null,
            "min_height": null,
            "min_width": null,
            "object_fit": null,
            "object_position": null,
            "order": null,
            "overflow": null,
            "overflow_x": null,
            "overflow_y": null,
            "padding": null,
            "right": null,
            "top": null,
            "visibility": null,
            "width": null
          }
        },
        "4a3f850bafd747f8b8fb2d3c8117bd3c": {
          "model_module": "@jupyter-widgets/controls",
          "model_name": "DescriptionStyleModel",
          "model_module_version": "1.5.0",
          "state": {
            "_model_module": "@jupyter-widgets/controls",
            "_model_module_version": "1.5.0",
            "_model_name": "DescriptionStyleModel",
            "_view_count": null,
            "_view_module": "@jupyter-widgets/base",
            "_view_module_version": "1.2.0",
            "_view_name": "StyleView",
            "description_width": ""
          }
        },
        "5beacf4c8e714fbda84f2ad959a75908": {
          "model_module": "@jupyter-widgets/base",
          "model_name": "LayoutModel",
          "model_module_version": "1.2.0",
          "state": {
            "_model_module": "@jupyter-widgets/base",
            "_model_module_version": "1.2.0",
            "_model_name": "LayoutModel",
            "_view_count": null,
            "_view_module": "@jupyter-widgets/base",
            "_view_module_version": "1.2.0",
            "_view_name": "LayoutView",
            "align_content": null,
            "align_items": null,
            "align_self": null,
            "border": null,
            "bottom": null,
            "display": null,
            "flex": null,
            "flex_flow": null,
            "grid_area": null,
            "grid_auto_columns": null,
            "grid_auto_flow": null,
            "grid_auto_rows": null,
            "grid_column": null,
            "grid_gap": null,
            "grid_row": null,
            "grid_template_areas": null,
            "grid_template_columns": null,
            "grid_template_rows": null,
            "height": null,
            "justify_content": null,
            "justify_items": null,
            "left": null,
            "margin": null,
            "max_height": null,
            "max_width": null,
            "min_height": null,
            "min_width": null,
            "object_fit": null,
            "object_position": null,
            "order": null,
            "overflow": null,
            "overflow_x": null,
            "overflow_y": null,
            "padding": null,
            "right": null,
            "top": null,
            "visibility": null,
            "width": null
          }
        },
        "a8f6b1d979b6461d988b134aa4486360": {
          "model_module": "@jupyter-widgets/controls",
          "model_name": "ProgressStyleModel",
          "model_module_version": "1.5.0",
          "state": {
            "_model_module": "@jupyter-widgets/controls",
            "_model_module_version": "1.5.0",
            "_model_name": "ProgressStyleModel",
            "_view_count": null,
            "_view_module": "@jupyter-widgets/base",
            "_view_module_version": "1.2.0",
            "_view_name": "StyleView",
            "bar_color": null,
            "description_width": ""
          }
        },
        "ea4d4c2545104cd8acc4da91fc877bd8": {
          "model_module": "@jupyter-widgets/base",
          "model_name": "LayoutModel",
          "model_module_version": "1.2.0",
          "state": {
            "_model_module": "@jupyter-widgets/base",
            "_model_module_version": "1.2.0",
            "_model_name": "LayoutModel",
            "_view_count": null,
            "_view_module": "@jupyter-widgets/base",
            "_view_module_version": "1.2.0",
            "_view_name": "LayoutView",
            "align_content": null,
            "align_items": null,
            "align_self": null,
            "border": null,
            "bottom": null,
            "display": null,
            "flex": null,
            "flex_flow": null,
            "grid_area": null,
            "grid_auto_columns": null,
            "grid_auto_flow": null,
            "grid_auto_rows": null,
            "grid_column": null,
            "grid_gap": null,
            "grid_row": null,
            "grid_template_areas": null,
            "grid_template_columns": null,
            "grid_template_rows": null,
            "height": null,
            "justify_content": null,
            "justify_items": null,
            "left": null,
            "margin": null,
            "max_height": null,
            "max_width": null,
            "min_height": null,
            "min_width": null,
            "object_fit": null,
            "object_position": null,
            "order": null,
            "overflow": null,
            "overflow_x": null,
            "overflow_y": null,
            "padding": null,
            "right": null,
            "top": null,
            "visibility": null,
            "width": null
          }
        },
        "cfe21ccd1ea1439ca7edc6d05340188e": {
          "model_module": "@jupyter-widgets/controls",
          "model_name": "DescriptionStyleModel",
          "model_module_version": "1.5.0",
          "state": {
            "_model_module": "@jupyter-widgets/controls",
            "_model_module_version": "1.5.0",
            "_model_name": "DescriptionStyleModel",
            "_view_count": null,
            "_view_module": "@jupyter-widgets/base",
            "_view_module_version": "1.2.0",
            "_view_name": "StyleView",
            "description_width": ""
          }
        }
      }
    }
  },
  "nbformat": 4,
  "nbformat_minor": 0
}